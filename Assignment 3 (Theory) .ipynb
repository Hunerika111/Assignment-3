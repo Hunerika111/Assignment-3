{
 "cells": [
  {
   "cell_type": "code",
   "execution_count": null,
   "id": "ea2ec2ad-b123-4cd8-8f91-35042a43438d",
   "metadata": {},
   "outputs": [],
   "source": [
    "Theory Questions Assignment:"
   ]
  },
  {
   "cell_type": "markdown",
   "id": "e8a5ee99-6de4-4c23-b786-1145bdd43551",
   "metadata": {},
   "source": [
    "1. What is the difference between a function and a method in Python?\n",
    "\n",
    "A function is a block of reusable code that performs a specific task. It can be called independently without being associated with an object.\n",
    "A method is similar to a function but it is associated with an object and is called on that object."
   ]
  },
  {
   "cell_type": "code",
   "execution_count": 1,
   "id": "6f24d59e-c3cb-40c5-a14c-a5f5a79f7e5d",
   "metadata": {},
   "outputs": [
    {
     "name": "stdout",
     "output_type": "stream",
     "text": [
      "Hello, Alice\n",
      "Hello, Bob\n"
     ]
    }
   ],
   "source": [
    "# Function\n",
    "def greet(name):\n",
    "    return f\"Hello, {name}\"\n",
    "\n",
    "# Method\n",
    "class Person:\n",
    "    def __init__(self, name):\n",
    "        self.name = name\n",
    "\n",
    "    def greet(self):\n",
    "        return f\"Hello, {self.name}\"\n",
    "\n",
    "# Calling a function\n",
    "print(greet(\"Alice\")) \n",
    "\n",
    "# Calling a method\n",
    "p = Person(\"Bob\")\n",
    "print(p.greet()) \n"
   ]
  },
  {
   "cell_type": "markdown",
   "id": "b2a434e6-0f01-4206-b4c8-971c18031f4a",
   "metadata": {},
   "source": [
    "2. Explain the concept of function arguments and parameters in Python.\n",
    "\n",
    "Parameters are the variables defined in the function declaration.\n",
    "Arguments are the actual values passed to the function when it is called."
   ]
  },
  {
   "cell_type": "code",
   "execution_count": 2,
   "id": "f3006705-c1f4-4802-b8ef-b456c5ad9686",
   "metadata": {},
   "outputs": [
    {
     "name": "stdout",
     "output_type": "stream",
     "text": [
      "8\n"
     ]
    }
   ],
   "source": [
    "# Parameters: x, y\n",
    "def add(x, y):\n",
    "    return x + y\n",
    "\n",
    "# Arguments: 5, 3\n",
    "result = add(5, 3)\n",
    "print(result) \n"
   ]
  },
  {
   "cell_type": "markdown",
   "id": "484d5b8d-f06d-4188-99a4-1508d25ec501",
   "metadata": {},
   "source": [
    "3. What are the different ways to define and call a function in Python?\n",
    "\n"
   ]
  },
  {
   "cell_type": "code",
   "execution_count": 3,
   "id": "06d7b39f-80d5-431b-aa7f-f1e105ab9df9",
   "metadata": {},
   "outputs": [],
   "source": [
    "# Defining a function:\n",
    "\n",
    "def greet(name):\n",
    "    return f\"Hello, {name}\""
   ]
  },
  {
   "cell_type": "code",
   "execution_count": 4,
   "id": "41ed98cc-b90a-4272-998a-cc33c7bfb8f0",
   "metadata": {},
   "outputs": [
    {
     "name": "stdout",
     "output_type": "stream",
     "text": [
      "Hello, Alice\n"
     ]
    }
   ],
   "source": [
    "# Calling a function:\n",
    "\n",
    "print(greet(\"Alice\")) "
   ]
  },
  {
   "cell_type": "code",
   "execution_count": 5,
   "id": "96fb0e9b-5f05-4791-89f9-bf519acc0b6f",
   "metadata": {},
   "outputs": [
    {
     "name": "stdout",
     "output_type": "stream",
     "text": [
      "Hello, Alice\n"
     ]
    }
   ],
   "source": [
    "# Using a lambda function:\n",
    "\n",
    "greet = lambda name: f\"Hello, {name}\"\n",
    "print(greet(\"Alice\"))  "
   ]
  },
  {
   "cell_type": "markdown",
   "id": "6c3161f9-1b80-414f-a561-b9e135b896c1",
   "metadata": {},
   "source": [
    "4. What is the purpose of the return statement in a Python function?\n",
    "\n",
    "The return statement is used to exit a function and go back to the place from where it was called. It can also return a value."
   ]
  },
  {
   "cell_type": "code",
   "execution_count": 6,
   "id": "35022c16-f042-4b4b-bd76-3d4fdc7b68ce",
   "metadata": {},
   "outputs": [
    {
     "name": "stdout",
     "output_type": "stream",
     "text": [
      "8\n"
     ]
    }
   ],
   "source": [
    "def add(x, y):\n",
    "    return x + y\n",
    "\n",
    "result = add(5, 3)\n",
    "print(result)  \n"
   ]
  },
  {
   "cell_type": "markdown",
   "id": "85d278e2-344a-4dcd-98c0-d255696e5b8e",
   "metadata": {},
   "source": [
    "5. What are iterators in Python and how do they differ from iterables?\n",
    "\n",
    "Iterable: An object that can return an iterator (e.g., lists, tuples).\n",
    "Iterator: An object that keeps state and produces the next value when you call next() on it."
   ]
  },
  {
   "cell_type": "code",
   "execution_count": 7,
   "id": "da14691e-7992-469e-ad62-d21823bc29dc",
   "metadata": {},
   "outputs": [
    {
     "name": "stdout",
     "output_type": "stream",
     "text": [
      "1\n",
      "2\n",
      "3\n"
     ]
    }
   ],
   "source": [
    "iterable = [1, 2, 3]\n",
    "iterator = iter(iterable)\n",
    "\n",
    "print(next(iterator))  \n",
    "print(next(iterator))  \n",
    "print(next(iterator))  \n"
   ]
  },
  {
   "cell_type": "markdown",
   "id": "d6785cf6-664e-4f6f-b345-b90a6cbf17b9",
   "metadata": {},
   "source": [
    "6. Explain the concept of generators in Python and how they are defined.\n",
    "\n",
    "Generators are a simple way of creating iterators using a function that uses the yield statement."
   ]
  },
  {
   "cell_type": "code",
   "execution_count": 8,
   "id": "787f3149-5744-4b0e-89d2-a7c3bb371f25",
   "metadata": {},
   "outputs": [
    {
     "name": "stdout",
     "output_type": "stream",
     "text": [
      "5\n",
      "4\n",
      "3\n",
      "2\n",
      "1\n"
     ]
    }
   ],
   "source": [
    "def countdown(n):\n",
    "    while n > 0:\n",
    "        yield n\n",
    "        n -= 1\n",
    "\n",
    "for number in countdown(5):\n",
    "    print(number)\n"
   ]
  },
  {
   "cell_type": "markdown",
   "id": "ea0ea678-a4cd-40ca-80a4-2a85398f7923",
   "metadata": {},
   "source": [
    "7. What are the advantages of using generators over regular functions?\n",
    "\n",
    "Memory efficiency: Generators use less memory as they generate values on the fly.\n",
    "Lazy evaluation: Generators produce items only when needed."
   ]
  },
  {
   "cell_type": "code",
   "execution_count": 9,
   "id": "5c1697cd-f77a-4ee2-b8a3-d9570d3588cc",
   "metadata": {},
   "outputs": [
    {
     "name": "stdout",
     "output_type": "stream",
     "text": [
      "1\n",
      "4\n",
      "9\n",
      "16\n",
      "25\n"
     ]
    }
   ],
   "source": [
    "# Generator\n",
    "def square_numbers(nums):\n",
    "    for i in nums:\n",
    "        yield i * i\n",
    "\n",
    "nums = square_numbers([1, 2, 3, 4, 5])\n",
    "for num in nums:\n",
    "    print(num)\n"
   ]
  },
  {
   "cell_type": "markdown",
   "id": "42ab5696-0ff4-4102-9d24-2cc68714e7c9",
   "metadata": {},
   "source": [
    "8. What is a lambda function in Python and when is it typically used?\n",
    "\n",
    "A lambda function is an anonymous function defined with the lambda keyword.\n",
    "Typically used for short, throwaway functions."
   ]
  },
  {
   "cell_type": "code",
   "execution_count": 11,
   "id": "5164cbe2-9468-4065-9d5e-163fa936a0cc",
   "metadata": {},
   "outputs": [
    {
     "name": "stdout",
     "output_type": "stream",
     "text": [
      "8\n"
     ]
    }
   ],
   "source": [
    "add = lambda x, y: x + y\n",
    "print(add(5, 3))  \n"
   ]
  },
  {
   "cell_type": "markdown",
   "id": "1f46af91-163c-4a95-a4b4-5c8ae750c5b3",
   "metadata": {},
   "source": [
    "9. Explain the purpose and usage of the map() function in Python.\n",
    "\n",
    "map() applies a given function to all items in an input list (or any iterable) and returns an iterator.\n"
   ]
  },
  {
   "cell_type": "code",
   "execution_count": 12,
   "id": "2901ca00-465b-452c-90d8-a5c634901a65",
   "metadata": {},
   "outputs": [
    {
     "name": "stdout",
     "output_type": "stream",
     "text": [
      "[1, 4, 9, 16, 25]\n"
     ]
    }
   ],
   "source": [
    "nums = [1, 2, 3, 4, 5]\n",
    "squared = map(lambda x: x * x, nums)\n",
    "print(list(squared)) \n"
   ]
  },
  {
   "cell_type": "markdown",
   "id": "924368b8-3589-4968-8554-5e59c3ea7719",
   "metadata": {},
   "source": [
    "10. What is the difference between 'map()', 'reduce()\", and filter() functions in Python?\n",
    "\n",
    "map(): Applies a function to all items in an iterable and returns an iterator.\n",
    "reduce(): Applies a function of two arguments cumulatively to the items of an iterable, reducing the iterable to a single value.\n",
    "filter(): Applies a function to all items in an iterable and returns an iterator with those items for which the function returns True."
   ]
  },
  {
   "cell_type": "code",
   "execution_count": 13,
   "id": "6b6f2adf-c0e5-4527-a7a5-de9be8b6b201",
   "metadata": {},
   "outputs": [
    {
     "name": "stdout",
     "output_type": "stream",
     "text": [
      "[1, 4, 9, 16, 25]\n",
      "15\n",
      "[2, 4]\n"
     ]
    }
   ],
   "source": [
    "from functools import reduce\n",
    "\n",
    "nums = [1, 2, 3, 4, 5]\n",
    "\n",
    "# map\n",
    "squared = map(lambda x: x * x, nums)\n",
    "print(list(squared))  # Output: [1, 4, 9, 16, 25]\n",
    "\n",
    "# reduce\n",
    "sum_all = reduce(lambda x, y: x + y, nums)\n",
    "print(sum_all)  # Output: 15\n",
    "\n",
    "# filter\n",
    "even = filter(lambda x: x % 2 == 0, nums)\n",
    "print(list(even))  # Output: [2, 4]\n"
   ]
  },
  {
   "cell_type": "markdown",
   "id": "7ec409a9-dc5d-4fe9-a66a-e663d59f72d9",
   "metadata": {},
   "source": [
    "11. Using pen & Paper write the internal mechanism for sum operation using reduce function on this given list: [47,11,42,13];\n",
    "\n",
    "The reduce function from the functools module applies a specified function cumulatively to the items of an iterable, from left to right, so as to reduce the iterable to a single cumulative value. In this case, we will sum the elements of the list [47, 11, 42, 13].\n",
    "\n",
    "Initial list: [47, 11, 42, 13]\n",
    "    Step 1:\n",
    "    First call: add(47, 11)\n",
    "    x = 47\n",
    "    y = 11\n",
    "    Result: 58\n",
    "Intermediate list after step 1: [58, 42, 13]\n",
    "    Step 2:\n",
    "    Second call: add(58, 42)\n",
    "    x = 58\n",
    "    y = 42\n",
    "    Result: 100\n",
    "Intermediate list after step 2: [100, 13]\n",
    "    Step 3:\n",
    "    Third call: add(100, 13)\n",
    "    x = 100\n",
    "    y = 13\n",
    "    Result: 113\n",
    "Final result: 113"
   ]
  },
  {
   "cell_type": "code",
   "execution_count": 14,
   "id": "b95596a9-9cce-4633-aef3-64c4d727a154",
   "metadata": {},
   "outputs": [
    {
     "name": "stdout",
     "output_type": "stream",
     "text": [
      "113\n"
     ]
    }
   ],
   "source": [
    "from functools import reduce\n",
    "\n",
    "# List of numbers\n",
    "numbers = [47, 11, 42, 13]\n",
    "\n",
    "# Reduce function to sum the list elements\n",
    "sum_total = reduce(lambda x, y: x + y, numbers)\n",
    "\n",
    "print(sum_total)  \n"
   ]
  },
  {
   "cell_type": "code",
   "execution_count": null,
   "id": "f391b94a-1da5-40a0-9b8b-f70dda6d2d01",
   "metadata": {},
   "outputs": [],
   "source": [
    "Thank You"
   ]
  }
 ],
 "metadata": {
  "kernelspec": {
   "display_name": "Python 3 (ipykernel)",
   "language": "python",
   "name": "python3"
  },
  "language_info": {
   "codemirror_mode": {
    "name": "ipython",
    "version": 3
   },
   "file_extension": ".py",
   "mimetype": "text/x-python",
   "name": "python",
   "nbconvert_exporter": "python",
   "pygments_lexer": "ipython3",
   "version": "3.10.8"
  }
 },
 "nbformat": 4,
 "nbformat_minor": 5
}
